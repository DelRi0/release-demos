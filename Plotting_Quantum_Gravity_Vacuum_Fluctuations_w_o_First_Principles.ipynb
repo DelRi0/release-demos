{
  "nbformat": 4,
  "nbformat_minor": 0,
  "metadata": {
    "colab": {
      "provenance": [],
      "private_outputs": true,
      "cell_execution_strategy": "setup",
      "authorship_tag": "ABX9TyOnaBusPx3whJGEBBfuNeG0",
      "include_colab_link": true
    },
    "kernelspec": {
      "name": "python3",
      "display_name": "Python 3"
    },
    "language_info": {
      "name": "python"
    }
  },
  "cells": [
    {
      "cell_type": "markdown",
      "metadata": {
        "id": "view-in-github",
        "colab_type": "text"
      },
      "source": [
        "<a href=\"https://colab.research.google.com/github/DelRi0/release-demos/blob/master/Plotting_Quantum_Gravity_Vacuum_Fluctuations_w_o_First_Principles.ipynb\" target=\"_parent\"><img src=\"https://colab.research.google.com/assets/colab-badge.svg\" alt=\"Open In Colab\"/></a>"
      ]
    },
    {
      "cell_type": "markdown",
      "source": [
        "This notebook uses Python libraries like matplotlib, numpy, and pandas to simulate quantum vacuum field fluctuations. We'll approach this in two parts:\n",
        "\n",
        "# Part 1: Simulating Virtual Particle Pairs using python libraries\n",
        "\n",
        "\n",
        "\n",
        "\n",
        "---\n",
        "**Install Dependencies:**\n",
        "\n",
        "*   numpy\n",
        "*   matplotlib\n",
        "*   pandas\n",
        "*   mayavi\n",
        "\n",
        "```\n",
        "%pip install numpy\n",
        "%pip install matplotlib\n",
        "%pip install pandas\n",
        "%pip install mayavi\n",
        "```"
      ],
      "metadata": {
        "id": "Bi_dGWgt1Vsl"
      }
    },
    {
      "cell_type": "code",
      "source": [
        "%pip install numpy\n",
        "%pip install matplotlib\n",
        "%pip install pandas\n",
        "%pip install mayavi"
      ],
      "metadata": {
        "id": "6fVvQLl65tPP"
      },
      "execution_count": null,
      "outputs": []
    },
    {
      "cell_type": "markdown",
      "source": [
        "**Import Libraries:**\n",
        "\n",
        "\n",
        "\n",
        "```\n",
        "import numpy as np\n",
        "import pandas as pd\n",
        "import matplotlib.pyplot as plt\n",
        "from mpl_toolkits.mplot3d import Axes3D\n",
        "```\n"
      ],
      "metadata": {
        "id": "Xl5vvzUg1WPe"
      }
    },
    {
      "cell_type": "code",
      "execution_count": null,
      "metadata": {
        "id": "uCIHKrH-3OlU"
      },
      "outputs": [],
      "source": [
        "import numpy as np\n",
        "import pandas as pd\n",
        "import matplotlib.pyplot as plt\n",
        "from mpl_toolkits.mplot3d import Axes3D"
      ]
    },
    {
      "cell_type": "markdown",
      "source": [
        "# Part 2: Define Constants:\n",
        "\n",
        "\n",
        "---\n",
        "\n",
        "\n",
        "*  **hbar**: Reduced Planck constant\n",
        "*  **c**: Speed of light\n",
        "*  **mass**: Particle mass (choose a relevant value for\n",
        "   the field you're simulating)\n",
        "*  **t_max**: Duration of simulation\n",
        "*  **dt**: Time step\n",
        "\n",
        "\n"
      ],
      "metadata": {
        "id": "TaXiUSqM1WrE"
      }
    },
    {
      "cell_type": "code",
      "source": [
        "hbar = 1.0545718e-34  # J s\n",
        "c = 2.99792458e8  # m/s\n",
        "mass = 1.6726219e-27  # kg (electron mass)\n",
        "t_max = 1e-15  # s\n",
        "dt = 1e-17  # s"
      ],
      "metadata": {
        "id": "jDkqpluD3S9D"
      },
      "execution_count": null,
      "outputs": []
    },
    {
      "cell_type": "markdown",
      "source": [
        "# Part 3: Generate Time Series\n",
        "\n",
        "---\n",
        "\n",
        "> Now let's create an empty list [called 'fluctuations'] to store energy fluctuation values.\n",
        "Then we will loop through simulated time steps at Planck scales, calculating and adding energy fluctuations due to virtual particle pair interactions between quarks and bosons.\n",
        "\n",
        "\n"
      ],
      "metadata": {
        "id": "TKA2eqdJ1XML"
      }
    },
    {
      "cell_type": "code",
      "source": [
        "fluctuations = []\n",
        "for t in np.arange(0, t_max, dt):\n",
        "    # Heisenberg uncertainty principle: ΔE Δt ≥ hbar/2\n",
        "    de = hbar / (2 * dt)\n",
        "    # Randomly sample energy fluctuation within allowed range\n",
        "    fluctuation = np.random.uniform(-de, de)\n",
        "    fluctuations.append(fluctuation)"
      ],
      "metadata": {
        "id": "8QRbFvIo4GDS"
      },
      "execution_count": null,
      "outputs": []
    },
    {
      "cell_type": "markdown",
      "source": [
        "# Part 4: Plot Time Series\n",
        "---\n",
        "*  Convert `fluctuations` list to a pandas series\n",
        "*  Create a time axis based on `t` values\n",
        "*  Plot the Series with time on the x-axis, and energy fluctuation on the y-axis."
      ],
      "metadata": {
        "id": "iQHvl0je933T"
      }
    },
    {
      "cell_type": "code",
      "source": [
        "fluctuation_series = pd.Series(fluctuations)\n",
        "time_axis = pd.to_timedelta(np.arange(0, len(fluctuations)) * dt)\n",
        "fluctuation_series.plot(kind=\"line\", x=time_axis, ylabel=\"Energy Fluctuation (J)\")\n",
        "plt.xlabel(\"Time (s)\")\n",
        "plt.show()"
      ],
      "metadata": {
        "id": "VMuOB22394w0"
      },
      "execution_count": null,
      "outputs": []
    },
    {
      "cell_type": "markdown",
      "source": [
        "# Option to visualize energy spectrum using a Fourier Transform :\n",
        "---\n",
        "\n",
        "*   convert `fluctuations` to a NumPy array\n",
        "*   Perform Fast Fourier Transform (FFT) using `np.fft.fft`.\n"
      ],
      "metadata": {
        "id": "lW86zz8A4i4q"
      }
    },
    {
      "cell_type": "code",
      "source": [
        "fluctuations_array = np.array(fluctuations)\n",
        "spectrum = np.fft.fft(fluctuations_array)"
      ],
      "metadata": {
        "id": "Uvb2Ufx95U7c"
      },
      "execution_count": null,
      "outputs": []
    },
    {
      "cell_type": "markdown",
      "source": [
        "---\n",
        "# Part 5: plot our frequency spectrum\n",
        "\n",
        "*   Calculate frequencies based on sampling rate and time span.\n",
        "*   Plot the absolute value of the spectrum (magnitude) vs. frequency.\n",
        "\n",
        "\n"
      ],
      "metadata": {
        "id": "tQt6ewMI5k_b"
      }
    },
    {
      "cell_type": "code",
      "source": [
        "frequencies = np.fft.fftfreq(len(fluctuations_array), d=dt)\n",
        "plt.plot(frequencies, np.abs(spectrum))\n",
        "plt.xlabel(\"Frequency (Hz)\")\n",
        "plt.ylabel(\"Spectrum Magnitude\")\n",
        "plt.show()"
      ],
      "metadata": {
        "id": "R4yX6v7V59cb"
      },
      "execution_count": null,
      "outputs": []
    },
    {
      "cell_type": "markdown",
      "source": [
        "---\n",
        "# This is a basic simulation with simplified assumptions. You can customize and extend it to:\n",
        ">* Simulate different particle types and field interactions.\n",
        "* Implement spatial dependence of fluctuations.\n",
        "* Calculate specific observable consequences like the Casimir effect.\n",
        "* Remember, this is a simplified model and doesn't represent the full complexity of quantum vacuum fluctuations."
      ],
      "metadata": {
        "id": "ynJIOlbE6PcS"
      }
    },
    {
      "cell_type": "markdown",
      "source": [
        "In order to extend our simulation to model spatial dependencies of fluctuations in a 3D plotted environment, we will:\n",
        "---\n",
        "# **1. Discretize Space:**\n",
        "\n",
        "Divide the simulated volume into a 3D grid of points. You can choose the grid size and resolution based on desired accuracy and computational limitations.\n",
        "\n",
        "---\n",
        "# **2. Introduce Spatial Correlation:**\n",
        "\n",
        "Fluctuations at a point shouldn't be completely independent of its neighbors. We can model this dependence using a correlation function, like the Gaussian function:"
      ],
      "metadata": {
        "id": "DSKzYP_E72S7"
      }
    },
    {
      "cell_type": "code",
      "source": [
        "def spatial_correlation(x1, y1, z1, x2, y2, z2, sigma):\n",
        "  distance = np.sqrt((z1 - x2)**2 + (x1 - y2)**2 + (y1 - z2)**2)\n",
        "  return np.exp(-distance**2 / (2 * sigma**2))"
      ],
      "metadata": {
        "id": "h3m1UXjQ8RSF"
      },
      "execution_count": null,
      "outputs": []
    },
    {
      "cell_type": "markdown",
      "source": [
        "This function calculates the correlation between two points based on their distance and a characteristic length scale (sigma). Higher sigma implies smoother fluctuations across space.\n",
        "\n",
        "**3. Simulate Fluctuations at Each Grid Point:**\n",
        "\n",
        "Iterate through each grid point:\n",
        "Generate a random energy fluctuation based on the Heisenberg uncertainty principle (similar to Part 1).\n",
        "Modify the fluctuation based on the average contribution from neighboring points using the spatial correlation function.\n",
        "Store the resulting fluctuation value at the grid point.\n",
        "\n",
        "**4. Visualization in 3D:**\n",
        "\n",
        "Use libraries like *mayavi* or *mpl_toolkits.mplot3d* to visualize the simulated fluctuations in a 3D volume.\n",
        "Each grid point can be represented as a colored sphere, with the color intensity reflecting its energy fluctuation level.\n",
        "You can customize the colormap, opacity, and other 3D visualization settings to enhance the presentation.\n",
        "\n",
        "**Additional Considerations:**\n",
        "\n",
        "For efficiency, you can employ fast Fourier transform techniques to calculate spatial correlations in the frequency domain.\n",
        "Implement different boundary conditions for the simulation volume (e.g., periodic or reflective) depending on your physical scenario.\n",
        "You can extend the model further to include additional physical components like external fields or particle interactions.\n",
        "This approach creates a more realistic representation of quantum vacuum fluctuations with spatial dependence. Remember to adjust the parameters and visualization options to best suit your specific needs and interests."
      ],
      "metadata": {
        "id": "iY_Kax408ci8"
      }
    },
    {
      "cell_type": "code",
      "source": [
        "# Import relevant libraries\n",
        "\n",
        "import matplotlib.pyplot as plt\n",
        "import numpy as np\n",
        "from mpl_toolkits.mplot3d import Axes3D\n",
        "\n",
        "# Assign variable functions and execute the plot\n",
        "\n",
        "fig = plt.figure()\n",
        "ax = fig.add_subplot(111, projection='3d')\n",
        "x, y, z = np.random.rand(3, 500)\n",
        "ax.scatter (x, y, z, c=y-x, cmap='viridis')\n",
        "plt.show()"
      ],
      "metadata": {
        "id": "zx4OvyxSZyAP"
      },
      "execution_count": null,
      "outputs": []
    }
  ]
}